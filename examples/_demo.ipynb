{
 "cells": [
  {
   "cell_type": "markdown",
   "metadata": {},
   "source": [
    "TSA DEMO\n",
    "\n",
    "DEscription what is TSA\n",
    "Figure of tsa\n",
    "Links to the videos and papers\n",
    "1. Data Structure \n",
    "1. Kinematics\n",
    "2. Dynamics\n",
    "Wrapping up"
   ]
  },
  {
   "cell_type": "code",
   "execution_count": null,
   "metadata": {},
   "outputs": [],
   "source": []
  }
 ],
 "metadata": {
  "language_info": {
   "name": "python"
  }
 },
 "nbformat": 4,
 "nbformat_minor": 2
}
